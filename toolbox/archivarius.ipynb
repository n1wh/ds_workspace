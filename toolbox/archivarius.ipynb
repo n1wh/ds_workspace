{
 "cells": [
  {
   "cell_type": "code",
   "execution_count": 8,
   "metadata": {},
   "outputs": [],
   "source": [
    "import os\n",
    "import time\n",
    "import zipfile as zp\n",
    "import datetime as dt\n",
    "\n",
    "def make_file_timestamp(ms: float) -> 'timestamp: str':\n",
    "    return dt.datetime.fromtimestamp(ms).strftime('%Y%m%d_%H%m')\n",
    "    \n",
    "def archivarius(dir_to_clean: str, days_old: int, delete_files: bool = False, compress_files: bool = False) -> None:\n",
    "    processed_counter = 0\n",
    "    deleted_counter = 0\n",
    "    compressed_counter = 0\n",
    "    \n",
    "    dir_to_clean = os.path.abspath(dir_to_clean)\n",
    "    if os.path.isdir(dir_to_clean) == False:\n",
    "        raise FileNotFoundError(f\"[Errno 2] No such file or directory: '{dir_to_clean}'\")\n",
    "    \n",
    "    times_list = []\n",
    "    \n",
    "    # init vars for compression\n",
    "    if compress_files == True:\n",
    "        compress_dir = dir_to_clean + '/archived'\n",
    "        os.makedirs(compress_dir, exist_ok=True)\n",
    "        tmp_zip_path = f'{compress_dir}/tmp.zip'\n",
    "        try:\n",
    "            os.remove(tmp_zip_path)\n",
    "        except FileNotFoundError:\n",
    "            pass\n",
    "    \n",
    "                        \n",
    "    for file_name in os.listdir(dir_to_clean):\n",
    "        file_path = dir_to_clean + '/' + file_name\n",
    "        \n",
    "        if os.path.isdir(file_path) == True:\n",
    "            continue\n",
    "\n",
    "        last_modified = os.path.getmtime(file_path)\n",
    "        \n",
    "\n",
    "        days_ago = (time.time() - last_modified) / 60 / 60 / 24\n",
    "        if days_ago > days_old:\n",
    "            # collect last modified dt for further zip name\n",
    "            times_list.append(last_modified)\n",
    "            \n",
    "            # COMPRESS\n",
    "            if compress_files == True:\n",
    "                with zp.ZipFile(tmp_zip_path, 'a', compression=zp.ZIP_BZIP2, compresslevel=9) as myzip:\n",
    "                    # ZIP_DEFLATED - more fast, but less efficient compression\n",
    "                    myzip.write(file_path, arcname=file_name)\n",
    "\n",
    "                compressed_counter += 1\n",
    "\n",
    "            # DELETE\n",
    "            if delete_files == True:\n",
    "                os.remove(file_path)\n",
    "                deleted_counter += 1\n",
    "\n",
    "        processed_counter += 1\n",
    "        \n",
    "    # rename Zip file to final one\n",
    "    if compress_files == True and compressed_counter > 0:\n",
    "        min_ts = make_file_timestamp(min(times_list))\n",
    "        max_ts = make_file_timestamp(max(times_list))\n",
    "        final_zip_path = f'{compress_dir}/period_{min_ts}_{max_ts}.zip'\n",
    "        os.rename(tmp_zip_path, final_zip_path)\n",
    "        \n",
    "   # abs_dir = '/'.join(os.path.abspath(file).split('/')[:-1])\n",
    "    \n",
    "    print('Processed directory: %s'%dir_to_clean)\n",
    "    print('Files left in directory: %i'%len(os.listdir(dir_to_clean)))\n",
    "    print('='*30)\n",
    "    print('Processed files: %i'%processed_counter)\n",
    "    print('Compressed files: %i'%compressed_counter)\n",
    "    print('Deleted files: %i'%deleted_counter)\n"
   ]
  },
  {
   "cell_type": "code",
   "execution_count": 9,
   "metadata": {},
   "outputs": [
    {
     "ename": "FileNotFoundError",
     "evalue": "[Errno 2] No such file or directory: '/home/knight/PROJ/git/ds_workspace/toolbox/test_dir'",
     "output_type": "error",
     "traceback": [
      "\u001b[0;31m---------------------------------------------------------------------------\u001b[0m",
      "\u001b[0;31mFileNotFoundError\u001b[0m                         Traceback (most recent call last)",
      "\u001b[0;32m<ipython-input-9-549b6fe4ace0>\u001b[0m in \u001b[0;36m<module>\u001b[0;34m\u001b[0m\n\u001b[0;32m----> 1\u001b[0;31m \u001b[0marchivarius\u001b[0m\u001b[0;34m(\u001b[0m\u001b[0mdir_to_clean\u001b[0m\u001b[0;34m=\u001b[0m\u001b[0;34m'test_dir'\u001b[0m\u001b[0;34m,\u001b[0m \u001b[0mdays_old\u001b[0m\u001b[0;34m=\u001b[0m\u001b[0;36m0\u001b[0m\u001b[0;34m,\u001b[0m \u001b[0mdelete_files\u001b[0m\u001b[0;34m=\u001b[0m\u001b[0;32mFalse\u001b[0m\u001b[0;34m,\u001b[0m \u001b[0mcompress_files\u001b[0m\u001b[0;34m=\u001b[0m\u001b[0;32mTrue\u001b[0m\u001b[0;34m)\u001b[0m\u001b[0;34m\u001b[0m\u001b[0;34m\u001b[0m\u001b[0m\n\u001b[0m",
      "\u001b[0;32m<ipython-input-8-4d120fda849c>\u001b[0m in \u001b[0;36marchivarius\u001b[0;34m(dir_to_clean, days_old, delete_files, compress_files)\u001b[0m\n\u001b[1;32m     14\u001b[0m     \u001b[0mdir_to_clean\u001b[0m \u001b[0;34m=\u001b[0m \u001b[0mos\u001b[0m\u001b[0;34m.\u001b[0m\u001b[0mpath\u001b[0m\u001b[0;34m.\u001b[0m\u001b[0mabspath\u001b[0m\u001b[0;34m(\u001b[0m\u001b[0mdir_to_clean\u001b[0m\u001b[0;34m)\u001b[0m\u001b[0;34m\u001b[0m\u001b[0;34m\u001b[0m\u001b[0m\n\u001b[1;32m     15\u001b[0m     \u001b[0;32mif\u001b[0m \u001b[0mos\u001b[0m\u001b[0;34m.\u001b[0m\u001b[0mpath\u001b[0m\u001b[0;34m.\u001b[0m\u001b[0misdir\u001b[0m\u001b[0;34m(\u001b[0m\u001b[0mdir_to_clean\u001b[0m\u001b[0;34m)\u001b[0m \u001b[0;34m==\u001b[0m \u001b[0;32mFalse\u001b[0m\u001b[0;34m:\u001b[0m\u001b[0;34m\u001b[0m\u001b[0;34m\u001b[0m\u001b[0m\n\u001b[0;32m---> 16\u001b[0;31m         \u001b[0;32mraise\u001b[0m \u001b[0mFileNotFoundError\u001b[0m\u001b[0;34m(\u001b[0m\u001b[0;34mf\"[Errno 2] No such file or directory: '{dir_to_clean}'\"\u001b[0m\u001b[0;34m)\u001b[0m\u001b[0;34m\u001b[0m\u001b[0;34m\u001b[0m\u001b[0m\n\u001b[0m\u001b[1;32m     17\u001b[0m \u001b[0;34m\u001b[0m\u001b[0m\n\u001b[1;32m     18\u001b[0m     \u001b[0mtimes_list\u001b[0m \u001b[0;34m=\u001b[0m \u001b[0;34m[\u001b[0m\u001b[0;34m]\u001b[0m\u001b[0;34m\u001b[0m\u001b[0;34m\u001b[0m\u001b[0m\n",
      "\u001b[0;31mFileNotFoundError\u001b[0m: [Errno 2] No such file or directory: '/home/knight/PROJ/git/ds_workspace/toolbox/test_dir'"
     ]
    }
   ],
   "source": [
    "archivarius(dir_to_clean='test_dir', days_old=0, delete_files=False, compress_files=True)"
   ]
  },
  {
   "cell_type": "code",
   "execution_count": null,
   "metadata": {},
   "outputs": [],
   "source": []
  }
 ],
 "metadata": {
  "kernelspec": {
   "display_name": "Python 3",
   "language": "python",
   "name": "python3"
  },
  "language_info": {
   "codemirror_mode": {
    "name": "ipython",
    "version": 3
   },
   "file_extension": ".py",
   "mimetype": "text/x-python",
   "name": "python",
   "nbconvert_exporter": "python",
   "pygments_lexer": "ipython3",
   "version": "3.7.6"
  }
 },
 "nbformat": 4,
 "nbformat_minor": 4
}
